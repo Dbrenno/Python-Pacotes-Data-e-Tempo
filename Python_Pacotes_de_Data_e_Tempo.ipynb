{
  "nbformat": 4,
  "nbformat_minor": 0,
  "metadata": {
    "colab": {
      "provenance": [],
      "authorship_tag": "ABX9TyOSP6SJwUTqvgdRlAVGvSLy",
      "include_colab_link": true
    },
    "kernelspec": {
      "name": "python3",
      "display_name": "Python 3"
    },
    "language_info": {
      "name": "python"
    }
  },
  "cells": [
    {
      "cell_type": "markdown",
      "metadata": {
        "id": "view-in-github",
        "colab_type": "text"
      },
      "source": [
        "<a href=\"https://colab.research.google.com/github/Dbrenno/Python-Pacotes-Data-e-Tempo/blob/main/Python_Pacotes_de_Data_e_Tempo.ipynb\" target=\"_parent\"><img src=\"https://colab.research.google.com/assets/colab-badge.svg\" alt=\"Open In Colab\"/></a>"
      ]
    },
    {
      "cell_type": "markdown",
      "source": [
        "# Pacotes/Bibliotecas - Import\n",
        "Quando importa uma biblioteca, recebemos um pacote de código que alguém criou e disponíbilizou.\n",
        "Segue a analógia de \"Não precisamos refazer a roda\".\n",
        "Existem alguns comandos específicos para importações, ex.:\n",
        "- **import NomePacote** - Importa todas as funções e objetos de um pacotes.\n",
        "- **from NomePacote import item** - Utilizamos from para importar somente o necessário, seja um objeto, função ou classe.\n",
        "- Podemos também importar arquivo de nossa autoria com o uso do import, basta informarmos o nome do arquivo e o diretório.\n",
        "- **dir()** - É  uma função usada para descobrir quais nomes são definidos por um módulo, ela devolve a tabela de símbolos (uma lista ordenada de strings).\n",
        "\n",
        "# Chamadas\n",
        "Geralmente, além da funções usamos os metódos dessa, para chamá-los é simples:\n",
        "pacote.função()\n",
        "- Atribuição:\n",
        "var = pacote.função.função/metódos()"
      ],
      "metadata": {
        "id": "Edp3Ub_fqr2W"
      }
    },
    {
      "cell_type": "markdown",
      "source": [
        "# Pacote/biblioteca Externa - Datetime\n",
        "O 'datetime' fornece uma classe que serve para manipulação de datas e horas."
      ],
      "metadata": {
        "id": "an2Xb3Cjp5x-"
      }
    },
    {
      "cell_type": "code",
      "source": [
        "# String de data\n",
        "StringData = '12/08/2023'\n",
        "print(StringData)\n",
        "\n",
        "# Biblioteca Datetime\n",
        "import datetime\n",
        "\n",
        "# datetime.datetime.today() - Imprime o ano-mês-dia e as horas:minutos:segundos\n",
        "Hoje = datetime.datetime.today()\n",
        "print(Hoje, 'Tipo:', type(Hoje))\n",
        "\n",
        "# datetime.datetime.today().date() - Imprime a data do dia\n",
        "DataHoje = datetime.datetime.today().date()\n",
        "print(DataHoje)\n",
        "\n",
        "# Extrações - Extraindo o ano, mês e dia\n",
        "Ano = DataHoje.year\n",
        "Mes = DataHoje.month\n",
        "Dia = DataHoje.day\n",
        "print(Dia, Mes, Ano)\n",
        "\n",
        "# datetime.date() - Criação de datas\n",
        "Data = datetime.date(1934, 4, 1)\n",
        "print(Data)\n",
        "\n",
        "# strftime() - Modifica o padrão da data ('dia/mês/ano')\n",
        "DataHoje.strftime('%d/%m/%y')\n",
        "\n",
        "# Cálculo entre datas\n",
        "print('Quantos dias se passaram do dia {} até {}: {} dias.'.format(Data, DataHoje, Data-DataHoje))\n",
        "\n",
        "# datetime.timedelta(days=valor) - Somando dias\n",
        "print('Daqui a 30 dias será:', DataHoje + datetime.timedelta(days=30))\n",
        "\n"
      ],
      "metadata": {
        "id": "6bvNAzUip8Y5"
      },
      "execution_count": null,
      "outputs": []
    },
    {
      "cell_type": "markdown",
      "source": [
        "# Biblioteca Externa - Time\n",
        "A biblioteca Time funções relacionadas ao tempo."
      ],
      "metadata": {
        "id": "LsOp19M0HpGH"
      }
    },
    {
      "cell_type": "code",
      "source": [
        "# Biblioteca Time\n",
        "import time\n",
        "\n",
        "# time.sleep(valor) - Conta um tempo baseado no valor passado como parâmetro\n",
        "print('Aguarde um tempo...')\n",
        "time.sleep(3)\n",
        "print('Pronto!')\n",
        "\n",
        "# time.local() - Fornece separadamente informações completas sobre o tempo referente ao momento\n",
        "Agora = time.localtime()\n",
        "print('Agora:', Agora, type(Agora))\n",
        "\n",
        "# time.strftime() - Extrai informações de determinado tempo\n",
        "time.strftime('%d/%m/%y, %H:%M:%S', Agora)\n",
        "\n",
        "# time.strptime() - Datas em outros formatos\n",
        "Data_texto = '21 April, 2023'\n",
        "time.strptime(Data_texto, '%d %B, %Y')"
      ],
      "metadata": {
        "colab": {
          "base_uri": "https://localhost:8080/"
        },
        "id": "GcHJQsnEKMq8",
        "outputId": "6d2fe017-fea1-4cfb-a30f-0280d4cc199f"
      },
      "execution_count": null,
      "outputs": [
        {
          "output_type": "stream",
          "name": "stdout",
          "text": [
            "Aguarde um tempo...\n",
            "Pronto!\n",
            "Agora: time.struct_time(tm_year=2023, tm_mon=8, tm_mday=12, tm_hour=14, tm_min=50, tm_sec=5, tm_wday=5, tm_yday=224, tm_isdst=0) <class 'time.struct_time'>\n"
          ]
        },
        {
          "output_type": "execute_result",
          "data": {
            "text/plain": [
              "time.struct_time(tm_year=2023, tm_mon=4, tm_mday=21, tm_hour=0, tm_min=0, tm_sec=0, tm_wday=4, tm_yday=111, tm_isdst=-1)"
            ]
          },
          "metadata": {},
          "execution_count": 37
        }
      ]
    }
  ]
}